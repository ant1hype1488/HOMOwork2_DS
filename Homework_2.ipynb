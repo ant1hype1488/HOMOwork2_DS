{
 "cells": [
  {
   "cell_type": "markdown",
   "metadata": {
    "id": "fCmV5-kTtgZ9"
   },
   "source": [
    "# Домашнее задание №2\n",
    "## Pandas\n"
   ]
  },
  {
   "cell_type": "markdown",
   "metadata": {
    "id": "J2iKu4jvuL7T"
   },
   "source": [
    "### В этом домашнем задании не будет как таковых задач. Только несколько простых заданий, чтобы освоиться в важнейшей библиотеке pandas."
   ]
  },
  {
   "cell_type": "markdown",
   "metadata": {
    "id": "MAK5esCQtn5p"
   },
   "source": [
    "### №1\n",
    "Импортируйте пандас как pd и считайте файл TSLA.csv (https://www.kaggle.com/efekurdoglu/teslastockprice/data) как датафрейм"
   ]
  },
  {
   "cell_type": "code",
   "execution_count": 3,
   "metadata": {
    "id": "nNnEuoEntfyF"
   },
   "outputs": [],
   "source": [
    "import pandas as pd\n",
    "df = pd.read_csv('TSLA.csv')\n",
    "\n",
    "\n"
   ]
  },
  {
   "cell_type": "markdown",
   "metadata": {
    "id": "DTD6BPPguazB"
   },
   "source": [
    "## №2\n",
    "Удалите из столбца Close значения, целые части которых кратны 6"
   ]
  },
  {
   "cell_type": "code",
   "execution_count": 4,
   "metadata": {
    "id": "K2JCVNS5uZIL"
   },
   "outputs": [
    {
     "name": "stdout",
     "output_type": "stream",
     "text": [
      "          Date   Open   High    Low  Close  Adj Close    Volume\n",
      "0   2010-06-29  3.800  5.000  3.508  4.778      4.778  93831500\n",
      "1   2010-06-30  5.158  6.084  4.660  4.766      4.766  85935500\n",
      "2   2010-07-01  5.000  5.184  4.054  4.392      4.392  41094000\n",
      "3   2010-07-02  4.600  4.620  3.742  3.840      3.840  25699000\n",
      "4   2010-07-06  4.000  4.000  3.166  3.222      3.222  34334500\n",
      "..         ...    ...    ...    ...    ...        ...       ...\n",
      "95  2010-11-11  5.720  5.820  5.466  5.608      5.608   9726500\n",
      "96  2010-11-12  5.650  6.100  5.614  5.968      5.968  13645500\n",
      "97  2010-11-15  6.044  6.588  6.044    NaN      6.160  13114500\n",
      "98  2010-11-16  6.200  6.280  5.684  5.934      5.934   6738000\n",
      "99  2010-11-17  6.040  6.150  5.722  5.898      5.898   3750000\n",
      "\n",
      "[100 rows x 7 columns]\n"
     ]
    }
   ],
   "source": [
    "\n",
    "df.Close  = df.Close.apply(lambda x: None if int(x)%6==0 else x)\n",
    "df = df.head(100)\n",
    "\n",
    "print(df)"
   ]
  },
  {
   "cell_type": "markdown",
   "metadata": {
    "id": "f_B8hPhsvAe2"
   },
   "source": [
    "## №3\n",
    "Теперь попробуйте заполнить пропуски средним значением в столбце, потом минимумом, потом медианой"
   ]
  },
  {
   "cell_type": "code",
   "execution_count": 20,
   "metadata": {
    "id": "6tHjjxyjvPIr"
   },
   "outputs": [
    {
     "name": "stdout",
     "output_type": "stream",
     "text": [
      "          Date   Open   High    Low      Close  Adj Close    Volume\n",
      "0   2010-06-29  3.800  5.000  3.508   4.778000      4.778  93831500\n",
      "1   2010-06-30  5.158  6.084  4.660   4.766000      4.766  85935500\n",
      "2   2010-07-01  5.000  5.184  4.054   4.392000      4.392  41094000\n",
      "3   2010-07-02  4.600  4.620  3.742   3.840000      3.840  25699000\n",
      "4   2010-07-06  4.000  4.000  3.166   3.222000      3.222  34334500\n",
      "..         ...    ...    ...    ...        ...        ...       ...\n",
      "95  2010-11-11  5.720  5.820  5.466   5.608000      5.608   9726500\n",
      "96  2010-11-12  5.650  6.100  5.614   5.968000      5.968  13645500\n",
      "97  2010-11-15  6.044  6.588  6.044  50.444821      6.160  13114500\n",
      "98  2010-11-16  6.200  6.280  5.684   5.934000      5.934   6738000\n",
      "99  2010-11-17  6.040  6.150  5.722   5.898000      5.898   3750000\n",
      "\n",
      "[100 rows x 7 columns]\n",
      "          Date   Open   High    Low  Close  Adj Close    Volume\n",
      "0   2010-06-29  3.800  5.000  3.508  4.778      4.778  93831500\n",
      "1   2010-06-30  5.158  6.084  4.660  4.766      4.766  85935500\n",
      "2   2010-07-01  5.000  5.184  4.054  4.392      4.392  41094000\n",
      "3   2010-07-02  4.600  4.620  3.742  3.840      3.840  25699000\n",
      "4   2010-07-06  4.000  4.000  3.166  3.222      3.222  34334500\n",
      "..         ...    ...    ...    ...    ...        ...       ...\n",
      "95  2010-11-11  5.720  5.820  5.466  5.608      5.608   9726500\n",
      "96  2010-11-12  5.650  6.100  5.614  5.968      5.968  13645500\n",
      "97  2010-11-15  6.044  6.588  6.044  3.160      6.160  13114500\n",
      "98  2010-11-16  6.200  6.280  5.684  5.934      5.934   6738000\n",
      "99  2010-11-17  6.040  6.150  5.722  5.898      5.898   3750000\n",
      "\n",
      "[100 rows x 7 columns]\n",
      "          Date   Open   High    Low      Close  Adj Close    Volume\n",
      "0   2010-06-29  3.800  5.000  3.508   4.778000      4.778  93831500\n",
      "1   2010-06-30  5.158  6.084  4.660   4.766000      4.766  85935500\n",
      "2   2010-07-01  5.000  5.184  4.054   4.392000      4.392  41094000\n",
      "3   2010-07-02  4.600  4.620  3.742   3.840000      3.840  25699000\n",
      "4   2010-07-06  4.000  4.000  3.166   3.222000      3.222  34334500\n",
      "..         ...    ...    ...    ...        ...        ...       ...\n",
      "95  2010-11-11  5.720  5.820  5.466   5.608000      5.608   9726500\n",
      "96  2010-11-12  5.650  6.100  5.614   5.968000      5.968  13645500\n",
      "97  2010-11-15  6.044  6.588  6.044  44.917999      6.160  13114500\n",
      "98  2010-11-16  6.200  6.280  5.684   5.934000      5.934   6738000\n",
      "99  2010-11-17  6.040  6.150  5.722   5.898000      5.898   3750000\n",
      "\n",
      "[100 rows x 7 columns]\n"
     ]
    }
   ],
   "source": [
    "df = pd.read_csv('TSLA.csv')\n",
    "df.Close  = df.Close.apply(lambda x: None if int(x)%6==0 else x)\n",
    "df.Close = df.Close.fillna(df['Close'].mean())\n",
    "df = df.head(100)\n",
    "print(df)\n",
    "\n",
    "\n",
    "df = pd.read_csv('TSLA.csv')\n",
    "df.Close  = df.Close.apply(lambda x: None if int(x)%6==0 else x)\n",
    "df.Close = df.Close.fillna(df['Close'].min())\n",
    "df = df.head(100)\n",
    "print(df)\n",
    "\n",
    "\n",
    "df = pd.read_csv('TSLA.csv')\n",
    "df.Close  = df.Close.apply(lambda x: None if int(x)%6==0 else x)\n",
    "df.Close = df.Close.fillna(df['Close'].median())\n",
    "df = df.head(100)\n",
    "print(df)\n",
    "\n"
   ]
  },
  {
   "cell_type": "markdown",
   "metadata": {
    "id": "uPS4CYloxo0x"
   },
   "source": [
    "## №4\n",
    "А теперь попробуйте заполнить эти пропуски средним между всеми значениями, кратным 5 и всеми значениями, кратным 7 (т.е. выберите все значение, кратные 5 и найдите их среднее, а потом все значение, кратные 7, найдите среднее среди них, а потом усредните два полученных значения)."
   ]
  },
  {
   "cell_type": "code",
   "execution_count": 19,
   "metadata": {
    "id": "6InI1iCuyI11"
   },
   "outputs": [
    {
     "name": "stdout",
     "output_type": "stream",
     "text": [
      "          Date   Open   High    Low      Close  Adj Close    Volume\n",
      "0   2010-06-29  3.800  5.000  3.508   4.778000      4.778  93831500\n",
      "1   2010-06-30  5.158  6.084  4.660   4.766000      4.766  85935500\n",
      "2   2010-07-01  5.000  5.184  4.054   4.392000      4.392  41094000\n",
      "3   2010-07-02  4.600  4.620  3.742   3.840000      3.840  25699000\n",
      "4   2010-07-06  4.000  4.000  3.166   3.222000      3.222  34334500\n",
      "..         ...    ...    ...    ...        ...        ...       ...\n",
      "95  2010-11-11  5.720  5.820  5.466   5.608000      5.608   9726500\n",
      "96  2010-11-12  5.650  6.100  5.614   5.968000      5.968  13645500\n",
      "97  2010-11-15  6.044  6.588  6.044  37.666667      6.160  13114500\n",
      "98  2010-11-16  6.200  6.280  5.684   5.934000      5.934   6738000\n",
      "99  2010-11-17  6.040  6.150  5.722   5.898000      5.898   3750000\n",
      "\n",
      "[100 rows x 7 columns]\n"
     ]
    }
   ],
   "source": [
    "df = pd.read_csv('TSLA.csv')\n",
    "df.Close  = df.Close.apply(lambda x: None if int(x)%6==0 else x)\n",
    "\n",
    "\n",
    "\n",
    "\n",
    "\n",
    "\n",
    "\n",
    "seven  = df[lambda x:x.Close%7==0]['Close'].mean()\n",
    "five  = df[lambda x:x.Close%5==0]['Close'].mean()\n",
    "\n",
    "average = (seven+five)/2\n",
    "df = df.fillna(average)\n",
    "print(df.head(100))"
   ]
  },
  {
   "cell_type": "markdown",
   "metadata": {
    "id": "EUcBk13QvPom"
   },
   "source": [
    "## №5\n",
    "Импортируйте matplotlib.pyplot как plt. Постройте графики получишвихся наборов значений. Чтобы получше разглядеть, найдите как в pyplot задать размер графика и поставьте побольше. <br>\n",
    "Оцените результаты, выберите какой вариант кажется наиболее разумным."
   ]
  },
  {
   "cell_type": "code",
   "execution_count": 18,
   "metadata": {
    "id": "FnqHVjILvjBJ"
   },
   "outputs": [
    {
     "data": {
      "text/plain": [
       "[<matplotlib.lines.Line2D at 0x7ffa00362400>]"
      ]
     },
     "execution_count": 18,
     "metadata": {},
     "output_type": "execute_result"
    },
    {
     "data": {
      "image/png": "[encoded data removed]",
      "text/plain": [
       "<Figure size 432x288 with 1 Axes>"
      ]
     },
     "metadata": {
      "needs_background": "light"
     },
     "output_type": "display_data"
    }
   ],
   "source": [
    "import matplotlib.pyplot as plt\n",
    "\n",
    "\n",
    "plt.plot(df.index, df['Close'])"
   ]
  },
  {
   "cell_type": "markdown",
   "metadata": {
    "id": "Ixs5o3quyK6l"
   },
   "source": [
    "## №6\n",
    "Приведите столбец High к строковому типу. Найдите все строки, где содержится цифра 9. <br>\n",
    "*Подсказка*: загуглите pandas.str"
   ]
  },
  {
   "cell_type": "code",
   "execution_count": 27,
   "metadata": {
    "id": "BktFtfMpyLKc"
   },
   "outputs": [
    {
     "name": "stdout",
     "output_type": "stream",
     "text": [
      "23           4.194\n",
      "24            4.39\n",
      "28           3.996\n",
      "29            3.93\n",
      "32            3.69\n",
      "           ...    \n",
      "2568     398.98999\n",
      "2571    461.940002\n",
      "2572    457.790009\n",
      "2573    437.790009\n",
      "2575    455.679993\n",
      "Name: High, Length: 1255, dtype: object\n"
     ]
    }
   ],
   "source": [
    "df = pd.read_csv('TSLA.csv')\n",
    "\n",
    "df['High'] = df['High'].astype(str)\n",
    "\n",
    "df = df['High'].loc[lambda x: x.str.contains('9')]\n",
    "print(df)"
   ]
  },
  {
   "cell_type": "markdown",
   "metadata": {
    "id": "SpC8lLEkyfih"
   },
   "source": [
    "## №7\n",
    "А теперь найдите в этом столбце строки, которые содержат цифру 4, но не содержат цифру 8."
   ]
  },
  {
   "cell_type": "code",
   "execution_count": 24,
   "metadata": {
    "id": "92jJNJL9yfub"
   },
   "outputs": [
    {
     "name": "stdout",
     "output_type": "stream",
     "text": [
      "3             4.62\n",
      "4              4.0\n",
      "6            3.504\n",
      "8            3.614\n",
      "10            4.03\n",
      "           ...    \n",
      "2572    457.790009\n",
      "2573    437.790009\n",
      "2574         451.0\n",
      "2575    455.679993\n",
      "2576     437.76001\n",
      "Name: High, Length: 827, dtype: object\n"
     ]
    }
   ],
   "source": [
    "\n",
    "df['High'] = df['High'].astype(str)\n",
    "\n",
    "df = df['High'].loc[lambda x: (x.str.contains('4')==True)  & (x.str.contains('8')==False)]\n",
    "print(df)"
   ]
  },
  {
   "cell_type": "markdown",
   "metadata": {
    "id": "s9vjRNLDy01A"
   },
   "source": [
    "## №8\n",
    "И наконец найдите в столбце Hihg (пусть там все еще будет строковый тип) такие строчки, у которых в дробной части есть цифра 3 и замените ее на 4. <br>\n",
    "*Подсказка*: может помочь метод split. <br>\n",
    "А потом замените эти значения в датафрейме на какое-нибудь слово. Например, лопата."
   ]
  },
  {
   "cell_type": "code",
   "execution_count": 26,
   "metadata": {
    "id": "aDQsTsHQy09o"
   },
   "outputs": [
    {
     "name": "stdout",
     "output_type": "stream",
     "text": [
      "0              5.0\n",
      "1            6.084\n",
      "2            5.184\n",
      "3             4.62\n",
      "4              4.0\n",
      "           ...    \n",
      "2572    457.790009\n",
      "2573    437.790009\n",
      "2574         451.0\n",
      "2575    455.679994\n",
      "2576     437.76001\n",
      "Name: High, Length: 2577, dtype: object\n"
     ]
    }
   ],
   "source": [
    "def into4(str):\n",
    "    newStr = ''\n",
    "    for i in str:\n",
    "        if i=='3':\n",
    "            newStr +='4'\n",
    "        else:\n",
    "            newStr +=i\n",
    "    return newStr\n",
    "\n",
    "\n",
    "df = pd.read_csv('TSLA.csv')\n",
    "\n",
    "df['High'] = df['High'].astype(str)\n",
    "\n",
    "df = df['High'].apply(lambda x: x.split('.')[0]+'.'+into4(x.split('.')[1]))\n",
    "print(df)\n"
   ]
  },
  {
   "cell_type": "markdown",
   "metadata": {
    "id": "jjWez_hfvktW"
   },
   "source": [
    "## №9\n",
    "Сейчас вы научитесь нормализовывать данные. Но сначала я объясню, зачем. <br>\n",
    "\n",
    "Алгоритмы машинного обучения, как правило, работают лучше или сходятся быстрее, когда различные функции (переменные) имеют меньший масштаб. Поэтому перед обучением на них моделей машинного обучения данные обычно нормализуются.\n",
    "\n",
    "Нормализация также делает процесс обучения менее чувствительным к масштабу функций. Это приводит к улучшению коэффициентов после тренировки.\n",
    "\n",
    "Этот процесс повышения пригодности функций для обучения путем изменения масштаба называется масштабированием функций."
   ]
  },
  {
   "cell_type": "markdown",
   "metadata": {
    "id": "OQjIfCa6wFwm"
   },
   "source": [
    "Вот формула, которую часто применяют для нормализации значений одного столбца:\n",
    "$$ x_{norm} = \\frac{x - x_{min}}{x_{max} - x_{min}}, $$\n",
    "где, понятное дело x - значение в конкретной строке выбранного столбца, xmax - максимальное значение этого столбца, а xmin - минимальное значение этого столбца.\n",
    "\n",
    "Примените эту формулу к столбцу Open (используйте метод apply)."
   ]
  },
  {
   "cell_type": "code",
   "execution_count": 25,
   "metadata": {
    "id": "euVZfsvmwFCG"
   },
   "outputs": [
    {
     "ename": "ZeroDivisionError",
     "evalue": "float division by zero",
     "output_type": "error",
     "traceback": [
      "\u001b[0;31m---------------------------------------------------------------------------\u001b[0m",
      "\u001b[0;31mZeroDivisionError\u001b[0m                         Traceback (most recent call last)",
      "\u001b[0;32m<ipython-input-25-59569fd4ad2e>\u001b[0m in \u001b[0;36m<module>\u001b[0;34m\u001b[0m\n\u001b[1;32m      1\u001b[0m \u001b[0mdf\u001b[0m \u001b[0;34m=\u001b[0m \u001b[0mpd\u001b[0m\u001b[0;34m.\u001b[0m\u001b[0mread_csv\u001b[0m\u001b[0;34m(\u001b[0m\u001b[0;34m'TSLA.csv'\u001b[0m\u001b[0;34m)\u001b[0m\u001b[0;34m\u001b[0m\u001b[0;34m\u001b[0m\u001b[0m\n\u001b[1;32m      2\u001b[0m \u001b[0;34m\u001b[0m\u001b[0m\n\u001b[0;32m----> 3\u001b[0;31m \u001b[0mdf\u001b[0m\u001b[0;34m[\u001b[0m\u001b[0;34m'Open'\u001b[0m\u001b[0;34m]\u001b[0m \u001b[0;34m=\u001b[0m \u001b[0mdf\u001b[0m\u001b[0;34m[\u001b[0m\u001b[0;34m'Open'\u001b[0m\u001b[0;34m]\u001b[0m\u001b[0;34m.\u001b[0m\u001b[0mapply\u001b[0m\u001b[0;34m(\u001b[0m\u001b[0;32mlambda\u001b[0m \u001b[0mx\u001b[0m\u001b[0;34m:\u001b[0m \u001b[0;34m(\u001b[0m\u001b[0mx\u001b[0m \u001b[0;34m-\u001b[0m \u001b[0mdf\u001b[0m\u001b[0;34m[\u001b[0m\u001b[0;34m'Open'\u001b[0m\u001b[0;34m]\u001b[0m\u001b[0;34m.\u001b[0m\u001b[0mmin\u001b[0m\u001b[0;34m(\u001b[0m\u001b[0;34m)\u001b[0m\u001b[0;34m/\u001b[0m\u001b[0;34m(\u001b[0m\u001b[0mdf\u001b[0m\u001b[0;34m[\u001b[0m\u001b[0;34m'Open'\u001b[0m\u001b[0;34m]\u001b[0m\u001b[0;34m.\u001b[0m\u001b[0mmax\u001b[0m\u001b[0;34m(\u001b[0m\u001b[0;34m)\u001b[0m \u001b[0;34m-\u001b[0m \u001b[0mx\u001b[0m\u001b[0;34m)\u001b[0m\u001b[0;34m)\u001b[0m\u001b[0;34m)\u001b[0m\u001b[0;34m\u001b[0m\u001b[0;34m\u001b[0m\u001b[0m\n\u001b[0m\u001b[1;32m      4\u001b[0m \u001b[0mprint\u001b[0m\u001b[0;34m(\u001b[0m\u001b[0mdf\u001b[0m\u001b[0;34m)\u001b[0m\u001b[0;34m\u001b[0m\u001b[0;34m\u001b[0m\u001b[0m\n",
      "\u001b[0;32m~/opt/anaconda3/lib/python3.8/site-packages/pandas/core/series.py\u001b[0m in \u001b[0;36mapply\u001b[0;34m(self, func, convert_dtype, args, **kwds)\u001b[0m\n\u001b[1;32m   4136\u001b[0m             \u001b[0;32melse\u001b[0m\u001b[0;34m:\u001b[0m\u001b[0;34m\u001b[0m\u001b[0;34m\u001b[0m\u001b[0m\n\u001b[1;32m   4137\u001b[0m                 \u001b[0mvalues\u001b[0m \u001b[0;34m=\u001b[0m \u001b[0mself\u001b[0m\u001b[0;34m.\u001b[0m\u001b[0mastype\u001b[0m\u001b[0;34m(\u001b[0m\u001b[0mobject\u001b[0m\u001b[0;34m)\u001b[0m\u001b[0;34m.\u001b[0m\u001b[0m_values\u001b[0m\u001b[0;34m\u001b[0m\u001b[0;34m\u001b[0m\u001b[0m\n\u001b[0;32m-> 4138\u001b[0;31m                 \u001b[0mmapped\u001b[0m \u001b[0;34m=\u001b[0m \u001b[0mlib\u001b[0m\u001b[0;34m.\u001b[0m\u001b[0mmap_infer\u001b[0m\u001b[0;34m(\u001b[0m\u001b[0mvalues\u001b[0m\u001b[0;34m,\u001b[0m \u001b[0mf\u001b[0m\u001b[0;34m,\u001b[0m \u001b[0mconvert\u001b[0m\u001b[0;34m=\u001b[0m\u001b[0mconvert_dtype\u001b[0m\u001b[0;34m)\u001b[0m\u001b[0;34m\u001b[0m\u001b[0;34m\u001b[0m\u001b[0m\n\u001b[0m\u001b[1;32m   4139\u001b[0m \u001b[0;34m\u001b[0m\u001b[0m\n\u001b[1;32m   4140\u001b[0m         \u001b[0;32mif\u001b[0m \u001b[0mlen\u001b[0m\u001b[0;34m(\u001b[0m\u001b[0mmapped\u001b[0m\u001b[0;34m)\u001b[0m \u001b[0;32mand\u001b[0m \u001b[0misinstance\u001b[0m\u001b[0;34m(\u001b[0m\u001b[0mmapped\u001b[0m\u001b[0;34m[\u001b[0m\u001b[0;36m0\u001b[0m\u001b[0;34m]\u001b[0m\u001b[0;34m,\u001b[0m \u001b[0mSeries\u001b[0m\u001b[0;34m)\u001b[0m\u001b[0;34m:\u001b[0m\u001b[0;34m\u001b[0m\u001b[0;34m\u001b[0m\u001b[0m\n",
      "\u001b[0;32mpandas/_libs/lib.pyx\u001b[0m in \u001b[0;36mpandas._libs.lib.map_infer\u001b[0;34m()\u001b[0m\n",
      "\u001b[0;32m<ipython-input-25-59569fd4ad2e>\u001b[0m in \u001b[0;36m<lambda>\u001b[0;34m(x)\u001b[0m\n\u001b[1;32m      1\u001b[0m \u001b[0mdf\u001b[0m \u001b[0;34m=\u001b[0m \u001b[0mpd\u001b[0m\u001b[0;34m.\u001b[0m\u001b[0mread_csv\u001b[0m\u001b[0;34m(\u001b[0m\u001b[0;34m'TSLA.csv'\u001b[0m\u001b[0;34m)\u001b[0m\u001b[0;34m\u001b[0m\u001b[0;34m\u001b[0m\u001b[0m\n\u001b[1;32m      2\u001b[0m \u001b[0;34m\u001b[0m\u001b[0m\n\u001b[0;32m----> 3\u001b[0;31m \u001b[0mdf\u001b[0m\u001b[0;34m[\u001b[0m\u001b[0;34m'Open'\u001b[0m\u001b[0;34m]\u001b[0m \u001b[0;34m=\u001b[0m \u001b[0mdf\u001b[0m\u001b[0;34m[\u001b[0m\u001b[0;34m'Open'\u001b[0m\u001b[0;34m]\u001b[0m\u001b[0;34m.\u001b[0m\u001b[0mapply\u001b[0m\u001b[0;34m(\u001b[0m\u001b[0;32mlambda\u001b[0m \u001b[0mx\u001b[0m\u001b[0;34m:\u001b[0m \u001b[0;34m(\u001b[0m\u001b[0mx\u001b[0m \u001b[0;34m-\u001b[0m \u001b[0mdf\u001b[0m\u001b[0;34m[\u001b[0m\u001b[0;34m'Open'\u001b[0m\u001b[0;34m]\u001b[0m\u001b[0;34m.\u001b[0m\u001b[0mmin\u001b[0m\u001b[0;34m(\u001b[0m\u001b[0;34m)\u001b[0m\u001b[0;34m/\u001b[0m\u001b[0;34m(\u001b[0m\u001b[0mdf\u001b[0m\u001b[0;34m[\u001b[0m\u001b[0;34m'Open'\u001b[0m\u001b[0;34m]\u001b[0m\u001b[0;34m.\u001b[0m\u001b[0mmax\u001b[0m\u001b[0;34m(\u001b[0m\u001b[0;34m)\u001b[0m \u001b[0;34m-\u001b[0m \u001b[0mx\u001b[0m\u001b[0;34m)\u001b[0m\u001b[0;34m)\u001b[0m\u001b[0;34m)\u001b[0m\u001b[0;34m\u001b[0m\u001b[0;34m\u001b[0m\u001b[0m\n\u001b[0m\u001b[1;32m      4\u001b[0m \u001b[0mprint\u001b[0m\u001b[0;34m(\u001b[0m\u001b[0mdf\u001b[0m\u001b[0;34m)\u001b[0m\u001b[0;34m\u001b[0m\u001b[0;34m\u001b[0m\u001b[0m\n",
      "\u001b[0;31mZeroDivisionError\u001b[0m: float division by zero"
     ]
    }
   ],
   "source": [
    "df = pd.read_csv('TSLA.csv')\n",
    "\n",
    "df['Open'] = df['Open'].apply(lambda x: (x - df['Open'].min()/(df['Open'].max() - x)))\n",
    "print(df)"
   ]
  },
  {
   "cell_type": "markdown",
   "metadata": {
    "id": "cGAHloxazpW1"
   },
   "source": [
    "## №10\n",
    "И, правда наконец, создайте пустой датафрейм с такими же колонками, как TSLA. Пусть в нем будет 10 строк. И пусть они будут заполнены такими значениями: в i-й строке j-го столбца должна быть j-ая степень числа i+j. Добавьте этот датафрейм в конец исходного. <br>\n",
    "Используйте метод tail, чтобы увидеть конец полученного датафрейма и порадоваться, что у вас все получилось и вы готовы реально обрабатывать датафреймы и заниматься дата сасом."
   ]
  },
  {
   "cell_type": "code",
   "execution_count": 21,
   "metadata": {
    "id": "7NpyHBRuzpj-"
   },
   "outputs": [
    {
     "name": "stdout",
     "output_type": "stream",
     "text": [
      "            Date        Open        High          Low         Close  \\\n",
      "2567  2020-09-09  356.600006  369.000000   341.510010    366.279999   \n",
      "2568  2020-09-10  386.209991  398.989990   360.559998    371.339996   \n",
      "2569  2020-09-11  381.940002  382.500000   360.500000    372.720001   \n",
      "2570  2020-09-14  380.950012  420.000000   373.299988    419.619995   \n",
      "2571  2020-09-15  436.559998  461.940002   430.700012    449.760010   \n",
      "2572  2020-09-16  439.869995  457.790009   435.309998    441.760010   \n",
      "2573  2020-09-17  415.600006  437.790009   408.000000    423.429993   \n",
      "2574  2020-09-18  447.940002  451.000000   428.799988    442.149994   \n",
      "2575  2020-09-21  453.130005  455.679993   407.070007    449.390015   \n",
      "2576  2020-09-22  429.600006  437.760010   417.600006    424.230011   \n",
      "2577         1.0    1.000000    4.000000    27.000000    256.000000   \n",
      "2578         1.0    2.000000    9.000000    64.000000    625.000000   \n",
      "2579         1.0    3.000000   16.000000   125.000000   1296.000000   \n",
      "2580         1.0    4.000000   25.000000   216.000000   2401.000000   \n",
      "2581         1.0    5.000000   36.000000   343.000000   4096.000000   \n",
      "2582         1.0    6.000000   49.000000   512.000000   6561.000000   \n",
      "2583         1.0    7.000000   64.000000   729.000000  10000.000000   \n",
      "2584         1.0    8.000000   81.000000  1000.000000  14641.000000   \n",
      "2585         1.0    9.000000  100.000000  1331.000000  20736.000000   \n",
      "2586         1.0   10.000000  121.000000  1728.000000  28561.000000   \n",
      "\n",
      "          Adj Close       Volume  \n",
      "2567     366.279999   79465800.0  \n",
      "2568     371.339996   84930600.0  \n",
      "2569     372.720001   60717500.0  \n",
      "2570     419.619995   83020600.0  \n",
      "2571     449.760010   97298200.0  \n",
      "2572     441.760010   72279300.0  \n",
      "2573     423.429993   76779200.0  \n",
      "2574     442.149994   86406800.0  \n",
      "2575     449.390015  109476800.0  \n",
      "2576     424.230011   73640900.0  \n",
      "2577    3125.000000      46656.0  \n",
      "2578    7776.000000     117649.0  \n",
      "2579   16807.000000     262144.0  \n",
      "2580   32768.000000     531441.0  \n",
      "2581   59049.000000    1000000.0  \n",
      "2582  100000.000000    1771561.0  \n",
      "2583  161051.000000    2985984.0  \n",
      "2584  248832.000000    4826809.0  \n",
      "2585  371293.000000    7529536.0  \n",
      "2586  537824.000000   11390625.0  \n"
     ]
    }
   ],
   "source": [
    "import numpy as np\n",
    "df1 = pd.read_csv('TSLA.csv')\n",
    "\n",
    "data = np.eye(10,7)\n",
    "for i in range(len(data)):\n",
    "    for j in range(len(data[i])):\n",
    "        data[i][j]= (i+j)**j\n",
    "\n",
    "\n",
    "\n",
    "\n",
    "\n",
    "index = np.arange(10)\n",
    "df2 = pd.DataFrame(data, index=index, columns=['Date','Open', 'High','Low','Close','Adj Close','Volume'])\n",
    "\n",
    "new_df = pd.concat([df1, df2],ignore_index=True)\n",
    "print(new_df.tail(20))"
   ]
  },
  {
   "cell_type": "code",
   "execution_count": null,
   "metadata": {},
   "outputs": [],
   "source": []
  }
 ],
 "metadata": {
  "colab": {
   "name": "Homework_3.ipynb",
   "provenance": []
  },
  "kernelspec": {
   "display_name": "Python 3",
   "language": "python",
   "name": "python3"
  },
  "language_info": {
   "codemirror_mode": {
    "name": "ipython",
    "version": 3
   },
   "file_extension": ".py",
   "mimetype": "text/x-python",
   "name": "python",
   "nbconvert_exporter": "python",
   "pygments_lexer": "ipython3",
   "version": "3.8.8"
  }
 },
 "nbformat": 4,
 "nbformat_minor": 4
}
